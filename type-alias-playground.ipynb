{
 "cells": [
  {
   "cell_type": "markdown",
   "metadata": {},
   "source": [
    "# Explicit types\n",
    "\n",
    "## Pros\n",
    "\n",
    "- Resolved by TypeScript on hover\n",
    "\n",
    "![](./images/explicit-types-hover.png)\n",
    "- Types are easily understood, no need to `CMD`+`click` through type definitions\n",
    "\n",
    "## Cons\n",
    "\n",
    "- Type definitions must be explicitly defined at the call site\n",
    "- Duplicate type definitions are not kept in sync with one another\n"
   ]
  },
  {
   "cell_type": "code",
   "execution_count": 3,
   "metadata": {},
   "outputs": [
    {
     "name": "stdout",
     "output_type": "stream",
     "text": [
      "[\n",
      "  [ { name: \"Medication A\", dosage: { unit: \"mg\", quantity: 100 } } ],\n",
      "  [ { name: \"Medication B\", dosage: { unit: \"tablet\", quantity: 1 } } ],\n",
      "  []\n",
      "]\n"
     ]
    }
   ],
   "source": [
    "const pets: Array<{\n",
    "  species: string;\n",
    "  name: string;\n",
    "  birthday: Date;\n",
    "  prescriptions: Array<{\n",
    "    name: string;\n",
    "    dosage: { quantity: number; unit: \"tablet\" | \"mg\" };\n",
    "  }>;\n",
    "}> = [\n",
    "  {\n",
    "    name: \"Cosmo\",\n",
    "    species: \"Dog\",\n",
    "    birthday: new Date(),\n",
    "    prescriptions: [\n",
    "      { name: \"Medication A\", dosage: { unit: \"mg\", quantity: 100 } },\n",
    "    ],\n",
    "  },\n",
    "  {\n",
    "    name: \"Wanda\",\n",
    "    species: \"Dog\",\n",
    "    birthday: new Date(),\n",
    "    prescriptions: [\n",
    "      { name: \"Medication B\", dosage: { unit: \"tablet\", quantity: 1 } },\n",
    "    ],\n",
    "  },\n",
    "  {\n",
    "    name: \"Frida\",\n",
    "    species: \"Dog\",\n",
    "    birthday: new Date(),\n",
    "    prescriptions: [],\n",
    "  },\n",
    "];\n",
    "\n",
    "// fileA.ts\n",
    "function getPetNames(\n",
    "  pets: Array<{\n",
    "    species: string;\n",
    "    name: string;\n",
    "    birthday: Date;\n",
    "    prescriptions: Array<{\n",
    "      name: string;\n",
    "      dosage: { quantity: number; unit: \"tablet\" | \"mg\" };\n",
    "    }>;\n",
    "  }>\n",
    ") {\n",
    "  return pets.map((pet) => pet.name);\n",
    "}\n",
    "\n",
    "console.log(getPetNames(pets));\n",
    "\n",
    "// fileB.ts\n",
    "function getPetPrescriptions(\n",
    "  pets: Array<{\n",
    "    species: string;\n",
    "    name: string;\n",
    "    birthday: Date;\n",
    "    prescriptions: Array<{\n",
    "      name: string;\n",
    "      dosage: { quantity: number; unit: \"tablet\" | \"mg\" };\n",
    "    }>;\n",
    "  }>\n",
    ") {\n",
    "  return pets.map((pet) => pet.prescriptions);\n",
    "}\n",
    "\n",
    "console.log(getPetPrescriptions(pets));\n"
   ]
  },
  {
   "cell_type": "markdown",
   "metadata": {},
   "source": [
    "# Alias types\n",
    "\n",
    "## Pros\n",
    "\n",
    "- Type definitions are declared once and can be imported at the call site\n",
    "- Type definitions are inherently in sync because all call sites reference the same type definition\n",
    "\n",
    "## Cons\n",
    "\n",
    "- TypeScript does not resolve type on hover, unless at the function definition\n",
    "\n",
    "| Call Site                           | Function Definition                              |\n",
    "| ----------------------------------- | ------------------------------------------------ |\n",
    "| ![](./images/alias-types-hover.png) | ![](./images/alias-types-hover-at-call-site.png) |\n"
   ]
  },
  {
   "cell_type": "code",
   "execution_count": 4,
   "metadata": {},
   "outputs": [
    {
     "name": "stdout",
     "output_type": "stream",
     "text": [
      "[\n",
      "  [ { name: \"Medication A\", dosage: { unit: \"mg\", quantity: 100 } } ],\n",
      "  [ { name: \"Medication B\", dosage: { unit: \"tablet\", quantity: 1 } } ],\n",
      "  []\n",
      "]\n"
     ]
    }
   ],
   "source": [
    "// types.d.ts\n",
    "interface Pet {\n",
    "  species: string;\n",
    "  name: string;\n",
    "  birthday: Date;\n",
    "  prescriptions: Array<{\n",
    "    name: string;\n",
    "    dosage: { quantity: number; unit: \"tablet\" | \"mg\" };\n",
    "  }>;\n",
    "}\n",
    "\n",
    "// fileA.ts\n",
    "function getPetNames(pets: Pet[]) {\n",
    "  return pets.map((pet) => pet.name);\n",
    "}\n",
    "\n",
    "console.log(getPetNames(pets));\n",
    "\n",
    "// fileB.ts\n",
    "function getPetPrescriptions(pets: Pet[]) {\n",
    "  return pets.map((pet) => pet.prescriptions);\n",
    "}\n",
    "\n",
    "console.log(getPetPrescriptions(pets));\n"
   ]
  }
 ],
 "metadata": {
  "kernelspec": {
   "display_name": "Deno",
   "language": "typescript",
   "name": "deno"
  },
  "language_info": {
   "codemirror_mode": "typescript",
   "file_extension": ".ts",
   "mimetype": "text/x.typescript",
   "name": "typescript",
   "nbconvert_exporter": "script",
   "pygments_lexer": "typescript",
   "version": "5.5.2"
  }
 },
 "nbformat": 4,
 "nbformat_minor": 2
}
